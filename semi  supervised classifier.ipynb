{
 "cells": [
  {
   "cell_type": "code",
   "execution_count": 6,
   "metadata": {},
   "outputs": [
    {
     "name": "stdout",
     "output_type": "stream",
     "text": [
      "Accuracy: 1.0000\n",
      "Precision: 1.0000\n",
      "Recall: 1.0000\n"
     ]
    }
   ],
   "source": [
    "from sklearn.feature_extraction.text import TfidfVectorizer\n",
    "from sklearn.semi_supervised import LabelPropagation\n",
    "from sklearn.metrics import accuracy_score, precision_score, recall_score\n",
    "import numpy as np\n",
    "\n",
    "labeled_data = [\n",
    "    (\"This is a document about sports\", \"Sports\"),\n",
    "    (\"This is a news article\", \"News\"),\n",
    "    (\"Another document about sports\", \"Sports\"),\n",
    "    (\"A text sample about politics\", \"Politics\"),\n",
    "    (\"A document discussing music\", \"Music\")\n",
    "]\n",
    "unlabeled_data = [\n",
    "    \"This document discusses machine learning\",\n",
    "    \"Another document about music\",\n",
    "    \"A short text sample\"\n",
    "]\n",
    "\n",
    "all_data = [text for text, _ in labeled_data] + unlabeled_data\n",
    "texts, labels = zip(*labeled_data)\n",
    "vectorizer = TfidfVectorizer(max_features=500)\n",
    "features = vectorizer.fit_transform(all_data)\n",
    "features_dense = features.toarray()\n",
    "all_labels = sorted(set(labels))\n",
    "label_distributions = np.zeros((len(texts), len(all_labels)))\n",
    "for i, label in enumerate(labels):\n",
    "    label_distributions[i, all_labels.index(label)] = 1\n",
    "\n",
    "X_train = features_dense[:len(texts)]\n",
    "y_train = labels\n",
    "X_test = X_train\n",
    "y_test = y_train\n",
    "\n",
    "y_train_indices = np.array([all_labels.index(label) for label in y_train])\n",
    "semi_clf = LabelPropagation()\n",
    "semi_clf.fit(X_train, y_train_indices)\n",
    "predictions = semi_clf.predict(X_test)\n",
    "accuracy = accuracy_score(np.array([all_labels.index(label) for label in y_test]), predictions)\n",
    "precision = precision_score(np.array([all_labels.index(label) for label in y_test]), predictions, average='weighted')\n",
    "recall = recall_score(np.array([all_labels.index(label) for label in y_test]), predictions, average='weighted')\n",
    "print(f\"Accuracy: {accuracy:.4f}\")\n",
    "print(f\"Precision: {precision:.4f}\")\n",
    "print(f\"Recall: {recall:.4f}\")\n"
   ]
  }
 ],
 "metadata": {
  "kernelspec": {
   "display_name": "Python 3",
   "language": "python",
   "name": "python3"
  },
  "language_info": {
   "codemirror_mode": {
    "name": "ipython",
    "version": 3
   },
   "file_extension": ".py",
   "mimetype": "text/x-python",
   "name": "python",
   "nbconvert_exporter": "python",
   "pygments_lexer": "ipython3",
   "version": "3.12.0"
  }
 },
 "nbformat": 4,
 "nbformat_minor": 2
}
